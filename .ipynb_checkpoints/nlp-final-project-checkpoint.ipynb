{
 "cells": [
  {
   "cell_type": "markdown",
   "metadata": {
    "_uuid": "d48a6972378bf6116b7a6b9883992d548128640c"
   },
   "source": [
    "This Kernel implements a modified version of **a state-of-art end-to-end neural correference resolution model** published in 2017: https://www.aclweb.org/anthology/D17-1018.\n",
    "This completition only focus on a specific case of  the generic reference resolution problem, and we only need pick out the correct mention from two candidates, which simplifies the model implementation.\n",
    "\n",
    "You can compare the result of this model  with the result by other non-RNN based DL models implemented in another kernel: https://www.kaggle.com/keyit92/coreference-resolution-by-mlp-cnn-coattention-nn. \n"
   ]
  },
  {
   "cell_type": "code",
   "execution_count": 8,
   "metadata": {
    "_cell_guid": "b1076dfc-b9ad-4769-8c92-a6c4dae69d19",
    "_uuid": "8f2839f25d086af736a60e9eeb907d3b93b6e0e5"
   },
   "outputs": [],
   "source": [
    "import numpy as np \n",
    "import pandas as pd \n",
    "\n",
    "\n",
    "import os\n",
    "import gc\n"
   ]
  },
  {
   "cell_type": "code",
   "execution_count": 9,
   "metadata": {
    "_cell_guid": "79c7e3d0-c299-4dcb-8224-4455121ee9b0",
    "_uuid": "d629ff2d2480ee46fbb7e2d37f6b5fab8052498a"
   },
   "outputs": [],
   "source": [
    "DATA_ROOT = './input/'\n",
    "GAP_DATA_FOLDER = os.path.join(DATA_ROOT, 'gap-coreference')\n",
    "FAST_TEXT_DATA_FOLDER = os.path.join(DATA_ROOT, 'fasttext-crawl-300d-2m')"
   ]
  },
  {
   "cell_type": "markdown",
   "metadata": {
    "_uuid": "461cb23b791e2d210e712c933e62de59d19aa20d"
   },
   "source": [
    "# Import Data"
   ]
  },
  {
   "cell_type": "code",
   "execution_count": 10,
   "metadata": {
    "_uuid": "e42e2e7f636cf0702cc472f3d855b451554927dd"
   },
   "outputs": [],
   "source": [
    "test_df_path = os.path.join(GAP_DATA_FOLDER, 'gap-test.tsv')\n",
    "train_df_path = os.path.join(GAP_DATA_FOLDER, 'gap-development.tsv')\n",
    "dev_df_path = os.path.join(GAP_DATA_FOLDER, 'gap-validation.tsv')\n",
    "\n",
    "train_df = pd.read_csv(train_df_path, sep='\\t')\n",
    "test_df = pd.read_csv(test_df_path, sep='\\t')\n",
    "dev_df = pd.read_csv(dev_df_path, sep='\\t')\n",
    "\n"
   ]
  },
  {
   "cell_type": "code",
   "execution_count": 11,
   "metadata": {
    "_uuid": "2eb32fae335b77dae0a60ade52b7ea0a32d8cb3d"
   },
   "outputs": [
    {
     "data": {
      "text/html": [
       "<div>\n",
       "<style scoped>\n",
       "    .dataframe tbody tr th:only-of-type {\n",
       "        vertical-align: middle;\n",
       "    }\n",
       "\n",
       "    .dataframe tbody tr th {\n",
       "        vertical-align: top;\n",
       "    }\n",
       "\n",
       "    .dataframe thead th {\n",
       "        text-align: right;\n",
       "    }\n",
       "</style>\n",
       "<table border=\"1\" class=\"dataframe\">\n",
       "  <thead>\n",
       "    <tr style=\"text-align: right;\">\n",
       "      <th></th>\n",
       "      <th>ID</th>\n",
       "      <th>Text</th>\n",
       "      <th>Pronoun</th>\n",
       "      <th>Pronoun-offset</th>\n",
       "      <th>A</th>\n",
       "      <th>A-offset</th>\n",
       "      <th>A-coref</th>\n",
       "      <th>B</th>\n",
       "      <th>B-offset</th>\n",
       "      <th>B-coref</th>\n",
       "      <th>URL</th>\n",
       "    </tr>\n",
       "  </thead>\n",
       "  <tbody>\n",
       "    <tr>\n",
       "      <th>0</th>\n",
       "      <td>test-1</td>\n",
       "      <td>Upon their acceptance into the Kontinental Hoc...</td>\n",
       "      <td>His</td>\n",
       "      <td>383</td>\n",
       "      <td>Bob Suter</td>\n",
       "      <td>352</td>\n",
       "      <td>False</td>\n",
       "      <td>Dehner</td>\n",
       "      <td>366</td>\n",
       "      <td>True</td>\n",
       "      <td>http://en.wikipedia.org/wiki/Jeremy_Dehner</td>\n",
       "    </tr>\n",
       "    <tr>\n",
       "      <th>1</th>\n",
       "      <td>test-2</td>\n",
       "      <td>Between the years 1979-1981, River won four lo...</td>\n",
       "      <td>him</td>\n",
       "      <td>430</td>\n",
       "      <td>Alonso</td>\n",
       "      <td>353</td>\n",
       "      <td>True</td>\n",
       "      <td>Alfredo Di St*fano</td>\n",
       "      <td>390</td>\n",
       "      <td>False</td>\n",
       "      <td>http://en.wikipedia.org/wiki/Norberto_Alonso</td>\n",
       "    </tr>\n",
       "    <tr>\n",
       "      <th>2</th>\n",
       "      <td>test-3</td>\n",
       "      <td>Though his emigration from the country has aff...</td>\n",
       "      <td>He</td>\n",
       "      <td>312</td>\n",
       "      <td>Ali Aladhadh</td>\n",
       "      <td>256</td>\n",
       "      <td>True</td>\n",
       "      <td>Saddam</td>\n",
       "      <td>295</td>\n",
       "      <td>False</td>\n",
       "      <td>http://en.wikipedia.org/wiki/Aladhadh</td>\n",
       "    </tr>\n",
       "    <tr>\n",
       "      <th>3</th>\n",
       "      <td>test-4</td>\n",
       "      <td>At the trial, Pisciotta said: ``Those who have...</td>\n",
       "      <td>his</td>\n",
       "      <td>526</td>\n",
       "      <td>Alliata</td>\n",
       "      <td>377</td>\n",
       "      <td>False</td>\n",
       "      <td>Pisciotta</td>\n",
       "      <td>536</td>\n",
       "      <td>True</td>\n",
       "      <td>http://en.wikipedia.org/wiki/Gaspare_Pisciotta</td>\n",
       "    </tr>\n",
       "    <tr>\n",
       "      <th>4</th>\n",
       "      <td>test-5</td>\n",
       "      <td>It is about a pair of United States Navy shore...</td>\n",
       "      <td>his</td>\n",
       "      <td>406</td>\n",
       "      <td>Eddie</td>\n",
       "      <td>421</td>\n",
       "      <td>True</td>\n",
       "      <td>Rock Reilly</td>\n",
       "      <td>559</td>\n",
       "      <td>False</td>\n",
       "      <td>http://en.wikipedia.org/wiki/Chasers</td>\n",
       "    </tr>\n",
       "  </tbody>\n",
       "</table>\n",
       "</div>"
      ],
      "text/plain": [
       "       ID                       ...                                                                   URL\n",
       "0  test-1                       ...                            http://en.wikipedia.org/wiki/Jeremy_Dehner\n",
       "1  test-2                       ...                          http://en.wikipedia.org/wiki/Norberto_Alonso\n",
       "2  test-3                       ...                                 http://en.wikipedia.org/wiki/Aladhadh\n",
       "3  test-4                       ...                        http://en.wikipedia.org/wiki/Gaspare_Pisciotta\n",
       "4  test-5                       ...                                  http://en.wikipedia.org/wiki/Chasers\n",
       "\n",
       "[5 rows x 11 columns]"
      ]
     },
     "execution_count": 11,
     "metadata": {},
     "output_type": "execute_result"
    }
   ],
   "source": [
    "test_df.head()"
   ]
  },
  {
   "cell_type": "markdown",
   "metadata": {
    "_uuid": "d60addb918fc181bd736f5497c3114dbf3d3bfd4"
   },
   "source": [
    "# Explore Features for Building Mention-Pair Distributed Representation"
   ]
  },
  {
   "cell_type": "code",
   "execution_count": 12,
   "metadata": {
    "_uuid": "8b82c9f910c289c5b21ec982890911bfb579c32b"
   },
   "outputs": [],
   "source": [
    "spacy_model = \"en_core_web_lg\""
   ]
  },
  {
   "cell_type": "code",
   "execution_count": 13,
   "metadata": {
    "_uuid": "177d5f8cca6584d7e542ea1ed6112e091e78d787"
   },
   "outputs": [],
   "source": [
    "from spacy.lang.en import English\n",
    "from spacy.pipeline import DependencyParser\n",
    "import spacy\n",
    "from nltk import Tree\n",
    "\n",
    "from keras.preprocessing import sequence\n",
    "from keras.preprocessing import text as ktext"
   ]
  },
  {
   "cell_type": "markdown",
   "metadata": {},
   "source": [
    "## Loading FastText Crawl Embedding"
   ]
  },
  {
   "cell_type": "code",
   "execution_count": 14,
   "metadata": {},
   "outputs": [],
   "source": [
    "EMBEDDING_FILE = os.path.join(FAST_TEXT_DATA_FOLDER, 'crawl-300d-2M.vec')\n",
    "def get_coefs(word, *arr): return word, np.asarray(arr, dtype='float32')\n",
    "embeddings_index = dict(get_coefs(*o.rstrip().rsplit(' ')) for o in open(EMBEDDING_FILE))"
   ]
  },
  {
   "cell_type": "code",
   "execution_count": 15,
   "metadata": {
    "_uuid": "1668e73e26b428fa0739c1c38653217d14d50aaa"
   },
   "outputs": [],
   "source": [
    "nlp = spacy.load(spacy_model)\n",
    "\n",
    "def bs(list_, target_):\n",
    "    lo, hi = 0, len(list_) -1\n",
    "    \n",
    "    while lo < hi:\n",
    "        mid = lo + int((hi - lo) / 2)\n",
    "        \n",
    "        if target_ < list_[mid]:\n",
    "            hi = mid\n",
    "        elif target_ > list_[mid]:\n",
    "            lo = mid + 1\n",
    "        else:\n",
    "            return mid + 1\n",
    "    return lo\n",
    "\n",
    "def bs_(list_, target_):\n",
    "    lo, hi = 0, len(list_) -1\n",
    "    \n",
    "    while lo < hi:\n",
    "        mid = lo + int((hi - lo) / 2)\n",
    "        \n",
    "        if target_ < list_[mid]:\n",
    "            hi = mid\n",
    "        elif target_ > list_[mid]:\n",
    "            lo = mid + 1\n",
    "        else:\n",
    "            return mid\n",
    "    return lo\n",
    "\n",
    "def ohe_dist(dist, buckets):\n",
    "    idx = bs_(buckets, dist)\n",
    "    oh = np.zeros(shape=(len(buckets),), dtype=np.float32)\n",
    "    oh[idx] = 1\n",
    "    \n",
    "    return oh"
   ]
  },
  {
   "cell_type": "markdown",
   "metadata": {
    "_uuid": "2755927ba88262427347c567ae777c92510ffa68"
   },
   "source": [
    " ##  Position Features"
   ]
  },
  {
   "cell_type": "markdown",
   "metadata": {
    "_uuid": "15165f2b90503a90de589b37558ebcea28daa867"
   },
   "source": [
    "Encode the absolute positions in the sentence and the relative position between the pronoun and the entities."
   ]
  },
  {
   "cell_type": "code",
   "execution_count": 16,
   "metadata": {
    "_uuid": "c1c14436f57e74e80ac4425f77df98768c71f7b9"
   },
   "outputs": [],
   "source": [
    "num_pos_features = 45"
   ]
  },
  {
   "cell_type": "code",
   "execution_count": 17,
   "metadata": {
    "_uuid": "9f3d21e9a626a3290c81c6bc98b817c3e47275be"
   },
   "outputs": [],
   "source": [
    "def extrac_positional_features(text, char_offset1, char_offset2):\n",
    "    doc = nlp(text)\n",
    "    max_len = 64\n",
    "    \n",
    "    lens = [token.idx for token in doc]\n",
    "    mention_offset1 = bs(lens, char_offset1) - 1\n",
    "    mention_offset2 = bs(lens, char_offset2) - 1\n",
    "    \n",
    "    lens = [len(sent) for sent in doc.sents]\n",
    "    acc_lens = [len_ for len_ in lens]\n",
    "    pre_len = 0\n",
    "    for i in range(0, len(acc_lens)):\n",
    "        pre_len += acc_lens[i]\n",
    "        acc_lens[i] = pre_len\n",
    "    sent_index1 = bs(acc_lens, mention_offset1)\n",
    "    sent_index2 = bs(acc_lens, mention_offset2)\n",
    "    \n",
    "    sent1 = list(doc.sents)[sent_index1]\n",
    "    sent2 = list(doc.sents)[sent_index2]\n",
    "    \n",
    "    bucket_dist = [1, 2, 3, 4, 5, 8, 16, 32, 64]\n",
    "    \n",
    "    dist = mention_offset2 - mention_offset1\n",
    "    dist_oh = ohe_dist(dist, bucket_dist)\n",
    "    \n",
    "    bucket_pos = [0, 1, 2, 3, 4, 5, 8, 16, 32]\n",
    "    \n",
    "    sent_pos1 = mention_offset1 + 1\n",
    "    if sent_index1 > 0:\n",
    "        sent_pos1 = mention_offset1 - acc_lens[sent_index1-1]\n",
    "    sent_pos_oh1 = ohe_dist(sent_pos1, bucket_pos)\n",
    "    sent_pos_inv1 = len(sent1) - sent_pos1\n",
    "    assert sent_pos_inv1 >= 0\n",
    "    sent_pos_inv_oh1 = ohe_dist(sent_pos_inv1, bucket_pos)\n",
    "    \n",
    "    sent_pos2 = mention_offset2 + 1\n",
    "    if sent_index2 > 0:\n",
    "        sent_pos2 = mention_offset2 - acc_lens[sent_index2-1]\n",
    "    sent_pos_oh2 = ohe_dist(sent_pos2, bucket_pos)\n",
    "    sent_pos_inv2 = len(sent2) - sent_pos2\n",
    "    if sent_pos_inv2 < 0:\n",
    "        print(sent_pos_inv2)\n",
    "        print(len(sent2))\n",
    "        print(sent_pos2)\n",
    "        raise ValueError\n",
    "    sent_pos_inv_oh2 = ohe_dist(sent_pos_inv2, bucket_pos)\n",
    "    \n",
    "    sent_pos_ratio1 = sent_pos1 / len(sent1)\n",
    "    sent_pos_ratio2 = sent_pos2 / len(sent2)\n",
    "    \n",
    "    return dist_oh, sent_pos_oh1, sent_pos_oh2, sent_pos_inv_oh1, sent_pos_inv_oh2"
   ]
  },
  {
   "cell_type": "code",
   "execution_count": 18,
   "metadata": {
    "_uuid": "4a9ec346bff260b62ebea6d9223c6a11e683a9ee"
   },
   "outputs": [],
   "source": [
    "def create_dist_features(df, text_column, pronoun_offset_column, name_offset_column):\n",
    "    text_offset_list = df[[text_column, pronoun_offset_column, name_offset_column]].values.tolist()\n",
    "    num_features = num_pos_features\n",
    "    \n",
    "    pos_feature_matrix = np.zeros(shape=(len(text_offset_list), num_features))\n",
    "    for text_offset_index in range(len(text_offset_list)):\n",
    "        text_offset = text_offset_list[text_offset_index]\n",
    "        dist_oh, sent_pos_oh1, sent_pos_oh2, sent_pos_inv_oh1, sent_pos_inv_oh2 = extrac_positional_features(text_offset[0], text_offset[1],text_offset[2])\n",
    "        \n",
    "        feature_index = 0\n",
    "        pos_feature_matrix[text_offset_index, feature_index:feature_index+len(dist_oh)] = np.asarray(dist_oh)\n",
    "        feature_index += len(dist_oh)\n",
    "        pos_feature_matrix[text_offset_index, feature_index:feature_index+len(sent_pos_oh1)] = np.asarray(sent_pos_oh1)\n",
    "        feature_index += len(sent_pos_oh1)\n",
    "        pos_feature_matrix[text_offset_index, feature_index:feature_index+len(sent_pos_oh2)] = np.asarray(sent_pos_oh2)\n",
    "        feature_index += len(sent_pos_oh2)\n",
    "        pos_feature_matrix[text_offset_index, feature_index:feature_index+len(sent_pos_inv_oh1)] = np.asarray(sent_pos_inv_oh1)\n",
    "        feature_index += len(sent_pos_inv_oh1)\n",
    "        pos_feature_matrix[text_offset_index, feature_index:feature_index+len(sent_pos_inv_oh2)] = np.asarray(sent_pos_inv_oh2)\n",
    "        feature_index += len(sent_pos_inv_oh2)\n",
    "    \n",
    "    return pos_feature_matrix"
   ]
  },
  {
   "cell_type": "markdown",
   "metadata": {
    "_uuid": "488aaec745f7f6eea342a5746bcf7bef206c60d3"
   },
   "source": [
    "## Extract Sentences"
   ]
  },
  {
   "cell_type": "markdown",
   "metadata": {
    "_uuid": "51de0d6b4223279969593956248e0fb99284c5d7"
   },
   "source": [
    "Select the surrounding 100 words around the mention in the sentence."
   ]
  },
  {
   "cell_type": "code",
   "execution_count": 19,
   "metadata": {
    "_uuid": "2edcfef36582c91246e7ab772d5a23c27a272f92"
   },
   "outputs": [],
   "source": [
    "max_len = 50"
   ]
  },
  {
   "cell_type": "code",
   "execution_count": 20,
   "metadata": {
    "_uuid": "11af138a12f54e9c0a8ce92a782383c9ad5a92ff"
   },
   "outputs": [],
   "source": [
    "seq_list = list()\n",
    "def extract_sents(text, char_offset_p, char_offset_a, char_offset_b, id):\n",
    "    global max_len\n",
    "    global seq_list\n",
    "\n",
    "    seq_list.append(list())\n",
    "    \n",
    "    doc = nlp(text)\n",
    "    token_lens = [token.idx for token in doc]\n",
    "    \n",
    "    char_offsets = [char_offset_p, char_offset_a, char_offset_b]\n",
    "    sent_list = list()\n",
    "    \n",
    "    for char_offset in char_offsets:\n",
    "        mention_offset = bs(token_lens, char_offset) - 1\n",
    "        mention = doc[mention_offset]\n",
    "        lens = [len(sent) for sent in doc.sents]\n",
    "        acc_lens = [len_ for len_ in lens]\n",
    "        pre_len = 0\n",
    "        for i in range(0, len(acc_lens)):\n",
    "            pre_len += acc_lens[i]\n",
    "            acc_lens[i] = pre_len\n",
    "        sent_index = bs(acc_lens, mention_offset)\n",
    "        sent = list(doc.sents)[sent_index]\n",
    "        \n",
    "        sent_pos = mention_offset + 1\n",
    "        if sent_index > 0:\n",
    "            sent_pos = mention_offset - acc_lens[sent_index-1]\n",
    "        \n",
    "        if len(sent) > max_len:\n",
    "            if sent_pos < max_len-1:\n",
    "                sent_list.append(sent[0:max_len].text)\n",
    "                sent_list.append(sent_pos)\n",
    "                seq_list[-1].append(sent[0:max_len])\n",
    "            else:\n",
    "                sent_list.append(sent[sent_pos-max_len+2 : min(sent_pos+2, len(sent))].text)\n",
    "                sent_list.append(max_len-2)\n",
    "                seq_list[-1].append(sent[sent_pos-max_len+2 : min(sent_pos+2, len(sent))])\n",
    "        else:\n",
    "            sent_list.append(sent.text)\n",
    "            sent_list.append(sent_pos)\n",
    "            seq_list[-1].append(sent)\n",
    "        \n",
    "    return pd.Series([id] + sent_list, index=['ID', 'Pronoun-Sent', 'Pronoun-Sent-Offset', 'A-Sent', 'A-Sent-Offset', 'B-Sent', 'B-Sent-Offset'])\n",
    "\n",
    "def add_sent_columns(df, text_column, pronoun_offset_column, a_offset_column, b_offset_column):\n",
    "    global seq_list\n",
    "    seq_list = list()\n",
    "    sent_df = df.apply(lambda row: extract_sents(row.loc[text_column], row[pronoun_offset_column], row[a_offset_column], row[b_offset_column], row['ID']), axis=1)\n",
    "    df = df.join(sent_df.set_index('ID'), on='ID')\n",
    "    return df, seq_list"
   ]
  },
  {
   "cell_type": "markdown",
   "metadata": {
    "_uuid": "9c0630e230a389ab7ba9bc4bc8140cabf769f5ff"
   },
   "source": [
    "## Create Train, Dev and Test Data"
   ]
  },
  {
   "cell_type": "code",
   "execution_count": 21,
   "metadata": {
    "_uuid": "f455cc1f3150d1dcc42a3aef2434c8d5e703c990"
   },
   "outputs": [],
   "source": [
    "seq_list = list()\n",
    "train_df, train_tokenized = add_sent_columns(train_df, 'Text', 'Pronoun-offset', 'A-offset', 'B-offset')\n",
    "seq_list = list()\n",
    "test_df, test_tokenized = add_sent_columns(test_df, 'Text', 'Pronoun-offset', 'A-offset', 'B-offset')\n",
    "seq_list = list()\n",
    "dev_df, dev_tokenized = add_sent_columns(dev_df, 'Text', 'Pronoun-offset', 'A-offset', 'B-offset')\n",
    "\n",
    "train_tokenized = train_tokenized[1:]\n",
    "test_tokenized = test_tokenized[1:]\n",
    "dev_tokenized = dev_tokenized[1:]\n"
   ]
  },
  {
   "cell_type": "markdown",
   "metadata": {
    "_uuid": "2873a775c7be71521ef5b8922a61f11a93e62b57"
   },
   "source": [
    "### Create Vocab and Embedding Matrix"
   ]
  },
  {
   "cell_type": "code",
   "execution_count": 22,
   "metadata": {
    "_uuid": "2d34b3f5fdce49c97e9fb9d153126546465b3965"
   },
   "outputs": [
    {
     "name": "stdout",
     "output_type": "stream",
     "text": [
      "(24939, 300)\n"
     ]
    }
   ],
   "source": [
    "embed_size = 300\n",
    "max_features = 80000\n",
    "\n",
    "word_index = dict()\n",
    "idx = 1\n",
    "for text_ in train_tokenized+test_tokenized+dev_tokenized:\n",
    "    for sent_ in text_:\n",
    "        for word_ in sent_:\n",
    "            if word_.text not in word_index and word_.text in embeddings_index:\n",
    "                word_index[word_.text] = idx\n",
    "                idx += 1\n",
    "\n",
    "nb_words = min(max_features, len(word_index))\n",
    "embedding_matrix = np.zeros((nb_words + 1, embed_size))\n",
    "        \n",
    "for word, i in word_index.items():\n",
    "    if i >= max_features: continue\n",
    "    embedding_vector = None\n",
    "    if word in embeddings_index:\n",
    "        embedding_vector = embeddings_index[word]\n",
    "    if embedding_vector is not None: embedding_matrix[i] = embedding_vector\n",
    "        \n",
    "print(embedding_matrix.shape)\n",
    "\n",
    "pos_index = dict()\n",
    "idx = 1\n",
    "for text_ in train_tokenized+test_tokenized+dev_tokenized:\n",
    "    for sent_ in text_:\n",
    "        for word_ in sent_:\n",
    "            if word_.pos not in pos_index:\n",
    "                pos_index[word_.pos] = idx\n",
    "                idx += 1\n",
    "\n",
    "def sentences_to_sequences(tokenized_):\n",
    "    return list(map(\n",
    "        lambda sent_tokenized: list(map(\n",
    "            lambda token_: word_index[token_.text] if token_.text in word_index else 0,\n",
    "            sent_tokenized\n",
    "        )),\n",
    "        tokenized_\n",
    "    ))\n",
    "\n",
    "def poses_to_sequences(tokenized_):\n",
    "    return list(map(\n",
    "        lambda sent_tokenized: list(map(\n",
    "            lambda token_: pos_index[token_.pos] if token_.pos in pos_index else 0,\n",
    "            sent_tokenized\n",
    "        )),\n",
    "        tokenized_\n",
    "    ))\n",
    "    "
   ]
  },
  {
   "cell_type": "code",
   "execution_count": 23,
   "metadata": {
    "_uuid": "35dda1595e80bed9e310dd5af9b89b726a878e8b"
   },
   "outputs": [],
   "source": [
    "train_p_tokenized = sentences_to_sequences([row[0] for row in train_tokenized])\n",
    "train_a_tokenized = sentences_to_sequences([row[1] for row in train_tokenized])\n",
    "train_b_tokenized = sentences_to_sequences([row[2] for row in train_tokenized])\n",
    "\n",
    "test_p_tokenized = sentences_to_sequences([row[0] for row in test_tokenized])\n",
    "test_a_tokenized = sentences_to_sequences([row[1] for row in test_tokenized])\n",
    "test_b_tokenized = sentences_to_sequences([row[2] for row in test_tokenized])\n",
    "\n",
    "\n",
    "dev_p_tokenized = sentences_to_sequences([row[0] for row in dev_tokenized])\n",
    "dev_a_tokenized = sentences_to_sequences([row[1] for row in dev_tokenized])\n",
    "dev_b_tokenized = sentences_to_sequences([row[2] for row in dev_tokenized])\n",
    "\n",
    "seq_p_train = sequence.pad_sequences(train_p_tokenized, maxlen = max_len, padding='post')\n",
    "seq_a_train = sequence.pad_sequences(train_a_tokenized, maxlen = max_len, padding='post')\n",
    "seq_b_train = sequence.pad_sequences(train_b_tokenized, maxlen = max_len, padding='post')\n",
    "\n",
    "seq_p_test = sequence.pad_sequences(test_p_tokenized, maxlen = max_len, padding='post')\n",
    "seq_a_test = sequence.pad_sequences(test_a_tokenized, maxlen = max_len, padding='post')\n",
    "seq_b_test = sequence.pad_sequences(test_b_tokenized, maxlen = max_len, padding='post')\n",
    "\n",
    "\n",
    "seq_p_dev = sequence.pad_sequences(dev_p_tokenized, maxlen = max_len, padding='post')\n",
    "seq_a_dev = sequence.pad_sequences(dev_a_tokenized, maxlen = max_len, padding='post')\n",
    "seq_b_dev = sequence.pad_sequences(dev_b_tokenized, maxlen = max_len, padding='post')\n",
    "\n",
    "train_p_pos = poses_to_sequences([row[0] for row in train_tokenized])\n",
    "train_a_pos = poses_to_sequences([row[1] for row in train_tokenized])\n",
    "train_b_pos = poses_to_sequences([row[2] for row in train_tokenized])\n",
    "\n",
    "test_p_pos = poses_to_sequences([row[0] for row in test_tokenized])\n",
    "test_a_pos = poses_to_sequences([row[1] for row in test_tokenized])\n",
    "test_b_pos = poses_to_sequences([row[2] for row in test_tokenized])\n",
    "\n",
    "\n",
    "dev_p_pos = poses_to_sequences([row[0] for row in dev_tokenized])\n",
    "dev_a_pos = poses_to_sequences([row[1] for row in dev_tokenized])\n",
    "dev_b_pos = poses_to_sequences([row[2] for row in dev_tokenized])\n",
    "\n",
    "pos_p_train = sequence.pad_sequences(train_p_pos, maxlen = max_len, padding='post')\n",
    "pos_a_train = sequence.pad_sequences(train_a_pos, maxlen = max_len, padding='post')\n",
    "pos_b_train = sequence.pad_sequences(train_b_pos, maxlen = max_len, padding='post')\n",
    "\n",
    "pos_p_test = sequence.pad_sequences(test_p_pos, maxlen = max_len, padding='post')\n",
    "pos_a_test = sequence.pad_sequences(test_a_pos, maxlen = max_len, padding='post')\n",
    "pos_b_test = sequence.pad_sequences(test_b_pos, maxlen = max_len, padding='post')\n",
    "\n",
    "\n",
    "pos_p_dev = sequence.pad_sequences(dev_p_pos, maxlen = max_len, padding='post')\n",
    "pos_a_dev = sequence.pad_sequences(dev_a_pos, maxlen = max_len, padding='post')\n",
    "pos_b_dev = sequence.pad_sequences(dev_b_pos, maxlen = max_len, padding='post')\n",
    "\n",
    "index_p_train = train_df['Pronoun-Sent-Offset'].values\n",
    "index_a_train = train_df['A-Sent-Offset'].values\n",
    "index_b_train = train_df['B-Sent-Offset'].values\n",
    "\n",
    "index_p_test = test_df['Pronoun-Sent-Offset'].values\n",
    "index_a_test = test_df['A-Sent-Offset'].values\n",
    "index_b_test = test_df['B-Sent-Offset'].values\n",
    "\n",
    "\n",
    "index_p_dev = dev_df['Pronoun-Sent-Offset'].values\n",
    "index_a_dev = dev_df['A-Sent-Offset'].values\n",
    "index_b_dev = dev_df['B-Sent-Offset'].values\n",
    "\n",
    "pa_pos_tra = create_dist_features(train_df, 'Text', 'Pronoun-offset', 'A-offset')\n",
    "pa_pos_dev = create_dist_features(dev_df, 'Text', 'Pronoun-offset', 'A-offset')\n",
    "pa_pos_test = create_dist_features(test_df, 'Text', 'Pronoun-offset', 'A-offset')\n",
    "\n",
    "pb_pos_tra = create_dist_features(train_df, 'Text', 'Pronoun-offset', 'B-offset')\n",
    "pb_pos_dev = create_dist_features(dev_df, 'Text', 'Pronoun-offset', 'B-offset')\n",
    "pb_pos_test = create_dist_features(test_df, 'Text', 'Pronoun-offset', 'B-offset')\n"
   ]
  },
  {
   "cell_type": "code",
   "execution_count": 24,
   "metadata": {
    "_uuid": "f46a80420d56262e4fed998d16f9f9105d502c02"
   },
   "outputs": [],
   "source": [
    "X_train = [seq_p_train, seq_a_train, seq_b_train, pos_p_train, pos_a_train, pos_b_train, index_p_train, index_a_train, index_b_train, pa_pos_tra, pb_pos_tra]\n",
    "X_dev = [seq_p_dev, seq_a_dev, seq_b_dev, pos_p_dev, pos_a_dev, pos_b_dev, index_p_dev, index_a_dev, index_b_dev, pa_pos_dev, pb_pos_dev]\n",
    "X_test = [seq_p_test, seq_a_test, seq_b_test, pos_p_test, pos_a_test, pos_b_test, index_p_test, index_a_test, index_b_test, pa_pos_test, pb_pos_test]\n"
   ]
  },
  {
   "cell_type": "code",
   "execution_count": 25,
   "metadata": {
    "_uuid": "2842410a113a578c1c274630b195038af0dfd75c"
   },
   "outputs": [],
   "source": [
    "def _row_to_y(row):\n",
    "    if row.loc['A-coref']:\n",
    "        return 0\n",
    "    if row.loc['B-coref']:\n",
    "        return 1\n",
    "    return 2\n",
    "\n",
    "y_tra = train_df.apply(_row_to_y, axis=1)\n",
    "y_dev = dev_df.apply(_row_to_y, axis=1)\n",
    "y_test = test_df.apply(_row_to_y, axis=1)"
   ]
  },
  {
   "cell_type": "markdown",
   "metadata": {
    "_uuid": "33ee19bc3e355ea58dd27bd5c373a13682536dd4"
   },
   "source": [
    "# Define Keras Layers"
   ]
  },
  {
   "cell_type": "code",
   "execution_count": 26,
   "metadata": {
    "_uuid": "cb3cacc8e7dc332a6b5cacf3d733f314b7f03cba"
   },
   "outputs": [],
   "source": [
    "import numpy as np\n",
    "from keras import backend\n",
    "from keras import layers\n",
    "from keras import models\n",
    "\n",
    "from keras import initializers, regularizers, constraints, activations\n",
    "from keras.engine import Layer\n",
    "import keras.backend as K\n",
    "from keras.layers import merge\n",
    "\n",
    "import tensorflow as tf"
   ]
  },
  {
   "cell_type": "code",
   "execution_count": 27,
   "metadata": {
    "_uuid": "3830a23390eaf527992b3676e03857699969957e"
   },
   "outputs": [],
   "source": [
    "def _dot_product(x, kernel):\n",
    "    if K.backend() == 'tensorflow':\n",
    "        return K.squeeze(K.dot(x, K.expand_dims(kernel)), axis=-1)\n",
    "    else:\n",
    "        return K.dot(x, kernel)\n",
    "    \n",
    "    \n",
    "class AttentionWeight(Layer):\n",
    "    def __init__(self,\n",
    "                 W_regularizer=None, b_regularizer=None,\n",
    "                 W_constraint=None, b_constraint=None,\n",
    "                 bias=True, **kwargs):\n",
    "\n",
    "        self.supports_masking = True\n",
    "        self.init = initializers.get('glorot_uniform')\n",
    "\n",
    "        self.W_regularizer = regularizers.get(W_regularizer)\n",
    "        self.b_regularizer = regularizers.get(b_regularizer)\n",
    "\n",
    "        self.W_constraint = constraints.get(W_constraint)\n",
    "        self.b_constraint = constraints.get(b_constraint)\n",
    "\n",
    "        self.bias = bias\n",
    "        super(AttentionWeight, self).__init__(**kwargs)\n",
    "\n",
    "    def build(self, input_shape):\n",
    "        shape1 = input_shape[0]\n",
    "        shape2 = input_shape[1]\n",
    "\n",
    "        self.W = self.add_weight((shape2[-1], shape1[-1],),\n",
    "                                 initializer=self.init,\n",
    "                                 name='{}_W'.format(self.name),\n",
    "                                 regularizer=self.W_regularizer,\n",
    "                                 constraint=self.W_constraint)\n",
    "        if self.bias:\n",
    "            self.b = self.add_weight((shape2[-1],),\n",
    "                                     initializer='zero',\n",
    "                                     name='{}_b'.format(self.name),\n",
    "                                     regularizer=self.b_regularizer,\n",
    "                                     constraint=self.b_constraint)\n",
    "\n",
    "    def compute_mask(self, input, input_mask=None):\n",
    "        return None\n",
    "\n",
    "    def call(self, inputs, mask=None):\n",
    "        x = inputs[0]\n",
    "        u = inputs[1]\n",
    "        \n",
    "        uit = _dot_product(x, self.W)\n",
    "\n",
    "        if self.bias:\n",
    "            uit += self.b\n",
    "\n",
    "        uit = K.tanh(uit)\n",
    "        ait = K.batch_dot(uit, u)\n",
    "\n",
    "        a = K.exp(ait)\n",
    "\n",
    "        if mask is not None:\n",
    "            a *= K.cast(mask, K.floatx())\n",
    "\n",
    "        a /= K.cast(K.sum(a, axis=1, keepdims=True) + K.epsilon(), K.floatx())\n",
    "        \n",
    "        return a\n",
    "\n",
    "    def compute_output_shape(self, input_shape):\n",
    "        if not isinstance(input_shape, list) or len(input_shape) != 2:\n",
    "            raise ValueError('A `Dot` layer should be called '\n",
    "                             'on a list of 2 inputs.')\n",
    "        shape1 = list(input_shape[0])\n",
    "        shape2 = list(input_shape[1])\n",
    "        \n",
    "        return shape1[0], shape1[1]\n",
    "\n",
    "    def get_config(self):\n",
    "        config = {\n",
    "            'W_regularizer': regularizers.serialize(self.W_regularizer),\n",
    "            'b_regularizer': regularizers.serialize(self.b_regularizer),\n",
    "            'W_constraint': constraints.serialize(self.W_constraint),\n",
    "            'b_constraint': constraints.serialize(self.b_constraint),\n",
    "            'bias': self.bias\n",
    "        }\n",
    "        base_config = super(AttentionWeight, self).get_config()\n",
    "        return dict(list(base_config.items()) + list(config.items()))\n",
    "    \n",
    "    \n",
    "class FeatureSelection1D(Layer):\n",
    "\n",
    "    def __init__(self, num_selects, **kwargs):\n",
    "\n",
    "        self.num_selects = num_selects\n",
    "        self.supports_masking = True\n",
    "        super(FeatureSelection1D, self).__init__(**kwargs)\n",
    "\n",
    "    def build(self, input_shape):\n",
    "\n",
    "        super(FeatureSelection1D, self).build(input_shape)\n",
    "\n",
    "    def compute_mask(self, input, input_mask=None):\n",
    "        return None\n",
    "\n",
    "    def call(self, inputs, mask=None):\n",
    "        if not isinstance(inputs, list) or len(inputs) != 2:\n",
    "            raise ValueError('FeatureSelection1D layer should be called '\n",
    "                             'on a list of 2 inputs.')\n",
    "\n",
    "        if mask is not None:\n",
    "            a = K.cast(mask, K.floatx()) * inputs[0]\n",
    "        else:\n",
    "            a = inputs[0]\n",
    "\n",
    "        b = inputs[1]\n",
    "\n",
    "        a = tf.batch_gather(\n",
    "            a, b\n",
    "        )\n",
    "\n",
    "        return a\n",
    "\n",
    "    def compute_output_shape(self, input_shape):\n",
    "        if not isinstance(input_shape, list) or len(input_shape) != 2:\n",
    "            raise ValueError('A `FeatureSelection1D` layer should be called '\n",
    "                             'on a list of 2 inputs.')\n",
    "        shape1 = list(input_shape[0])\n",
    "        shape2 = list(input_shape[1])\n",
    "\n",
    "        if shape2[0] != shape1[0]:\n",
    "            raise ValueError(\"batch size must be same\")\n",
    "\n",
    "        if shape2[1] != self.num_selects:\n",
    "            raise ValueError(\"must conform to the num_select\")\n",
    "\n",
    "        return (shape1[0], self.num_selects, shape1[2])\n",
    "\n",
    "    def get_config(self):\n",
    "        config = {\n",
    "            'num_selects': self.num_selects\n",
    "        }\n",
    "        base_config = super(FeatureSelection1D, self).get_config()\n",
    "        return dict(list(base_config.items()) + list(config.items()))"
   ]
  },
  {
   "cell_type": "markdown",
   "metadata": {
    "_uuid": "bf87bf600dac037777be8e3dda560ec65b6640a2"
   },
   "source": [
    "# Build and Train Model"
   ]
  },
  {
   "cell_type": "code",
   "execution_count": 28,
   "metadata": {
    "_uuid": "03e8297383ee57a4a23c707a4a6c1cca13da1868"
   },
   "outputs": [],
   "source": [
    "from keras import callbacks as kc\n",
    "from keras import optimizers as ko\n",
    "from keras import initializers, regularizers, constraints\n",
    "\n",
    "import matplotlib.pyplot as plt\n",
    "from IPython.display import SVG\n",
    "\n",
    "histories = list()\n",
    "file_paths = list()\n",
    "cos = list()"
   ]
  },
  {
   "cell_type": "markdown",
   "metadata": {
    "_uuid": "5503bd66a2a7fea5bcb093c775d69baded3e759d"
   },
   "source": [
    "## End-to-End RNN Attention Model"
   ]
  },
  {
   "cell_type": "markdown",
   "metadata": {
    "_uuid": "5a954b42159bc4a8a17b4e15083f026f53362a43"
   },
   "source": [
    "### Define Model"
   ]
  },
  {
   "cell_type": "code",
   "execution_count": 29,
   "metadata": {
    "_uuid": "8feec4878e5b817dcbf5ed7f49d9b78cce36ebd6"
   },
   "outputs": [],
   "source": [
    "def build_e2e_birnn_attention_model(\n",
    "        voca_dim, time_steps, pos_tag_size, pos_tag_dim, extra_feature_dims, output_dim, rnn_dim, model_dim, mlp_dim,\n",
    "        item_embedding=None,drop_out=0.5, rnn_drop_out=0., rnn_state_drop_out=0.,\n",
    "        trainable_embedding=False, gpu=False, return_customized_layers=False):\n",
    "   \n",
    "    \n",
    "    if item_embedding is not None:\n",
    "        inputp = models.Input(shape=(time_steps,), dtype='int32', name='inputp') \n",
    "        inputa = models.Input(shape=(time_steps,), dtype='int32', name='inputa') \n",
    "        inputb = models.Input(shape=(time_steps,), dtype='int32', name='inputb') \n",
    "        inputs = [inputp, inputa, inputb]\n",
    "        \n",
    "        if isinstance(item_embedding, np.ndarray):\n",
    "            assert voca_dim == item_embedding.shape[0]\n",
    "            embed_dim = item_embedding.shape[1]\n",
    "            emb_layer = layers.Embedding(\n",
    "                voca_dim, item_embedding.shape[1], input_length=time_steps,\n",
    "                weights=[item_embedding, ], trainable=trainable_embedding,\n",
    "                mask_zero=False, name='embedding_layer0'\n",
    "            )\n",
    "        xs = list(map(\n",
    "            lambda input_: emb_layer(input_),\n",
    "            inputs\n",
    "        ))\n",
    "        \n",
    "    # pos tag # the pos of words in sentence containing p\n",
    "    inputposp = models.Input(shape=(time_steps,), dtype='int32', name='inputposp') \n",
    "    inputposa = models.Input(shape=(time_steps,), dtype='int32', name='inputposa')\n",
    "    inputposb = models.Input(shape=(time_steps,), dtype='int32', name='inputposb')\n",
    "\n",
    "    inputpos = [inputposp, inputposa, inputposb]\n",
    "    pos_emb_layer = layers.Embedding(\n",
    "        pos_tag_size, pos_tag_dim, input_length=time_steps,\n",
    "        trainable=True, mask_zero=False, name='pos_embedding_layer0'\n",
    "    )\n",
    "    xpos = list(map(\n",
    "        lambda input_: pos_emb_layer(input_),\n",
    "        inputpos\n",
    "    ))\n",
    "    \n",
    "    embed_concate_layer = layers.Concatenate(axis=2, name=\"embed_concate_layer\")  \n",
    "    for i in range(len(xs)):\n",
    "        xs[i] = embed_concate_layer([xs[i], xpos[i]])\n",
    "    \n",
    "    inputpi = models.Input(shape=(1,), dtype='int32', name='inputpi') \n",
    "    inputai = models.Input(shape=(1,), dtype='int32', name='inputai')\n",
    "    inputbi = models.Input(shape=(1,), dtype='int32', name='inputbi')\n",
    "    xis = [inputpi, inputai, inputbi]\n",
    "    \n",
    "    inputpa = models.Input(shape=(extra_feature_dims,), dtype='float32', name='inputpa') \n",
    "    inputpb = models.Input(shape=(extra_feature_dims,), dtype='float32', name='inputpb')\n",
    "    xextrs = [inputpa, inputpb]\n",
    "    \n",
    "    # rnn\n",
    "    birnns = list()\n",
    "    rnn_batchnorms = list()\n",
    "    rnn_dropouts = list()\n",
    "    if gpu:\n",
    "        # rnn encoding\n",
    "        rnn_dropout = layers.SpatialDropout1D(rnn_drop_out)\n",
    "        birnn = layers.Bidirectional(\n",
    "            layers.CuDNNGRU(rnn_dim, return_sequences=True),\n",
    "            name='bi_lstm_layer' + str(i))\n",
    "        rnn_batchnorm = layers.BatchNormalization(name='rnn_batch_norm_layer' + str(i))\n",
    "            \n",
    "        birnns.append(birnn)\n",
    "        rnn_dropouts.append(rnn_dropout)\n",
    "        rnn_batchnorms.append(rnn_batchnorm)\n",
    "        \n",
    "        xs_ = list()\n",
    "        for x_ in xs:\n",
    "            for i in range(len(birnns)):\n",
    "                x_ = rnn_dropouts[i](x_)\n",
    "                x_ = birnns[i](x_)\n",
    "                x_ = rnn_batchnorms[i](x_)\n",
    "            xs_.append(x_)\n",
    "        xs = xs_\n",
    "    else:\n",
    "        # rnn encoding\n",
    "        birnn = layers.Bidirectional(\n",
    "            layers.GRU(rnn_dim, return_sequences=True, dropout=rnn_drop_out,\n",
    "                        recurrent_dropout=rnn_state_drop_out),\n",
    "            name='bi_lstm_layer' + str(i))\n",
    "        rnn_batchnorm = layers.BatchNormalization(name='rnn_batch_norm_layer' + str(i))\n",
    "            \n",
    "        birnns.append(birnn)\n",
    "        rnn_batchnorms.append(rnn_batchnorm)\n",
    "            \n",
    "        xs_ = list()\n",
    "        for x_ in xs:\n",
    "            for i in range(len(birnns)):\n",
    "                x_ = birnns[i](x_)\n",
    "                x_ = rnn_batchnorms[i](x_)\n",
    "            xs_.append(x_)\n",
    "        xs = xs_\n",
    "    \n",
    "    \n",
    "    select_layer = FeatureSelection1D(1, name='boundary_selection_layer')\n",
    "    flatten_layer1 = layers.Flatten('channels_first', name=\"flatten_layer1\")\n",
    "    permute_layer = layers.Permute((2, 1), name='permuted_attention_x')\n",
    "    attent_weight = AttentionWeight(name=\"attention_weight\")\n",
    "    focus_layer = layers.Dot([2, 1], name='focus' + '_layer')\n",
    "    reshape_layer = layers.Reshape((1, rnn_dim*2), name=\"reshape_layer\")\n",
    "    concate_layer = layers.Concatenate(axis=1, name=\"attention_concate_layer\")\n",
    "    atten_dropout_layer = layers.Dropout(drop_out, name='attention_dropout_layer')\n",
    "    map_layer = layers.Dense(model_dim, activation=\"relu\", name=\"map_layer\")\n",
    "    flatten_layer = layers.Flatten('channels_first', name=\"flatten_layer\")\n",
    "    for i in range(len(xs)):\n",
    "        select_ = select_layer([xs[i], xis[i]])\n",
    "        flatten_select_ = flatten_layer1(select_)\n",
    "        att = attent_weight([xs[i], flatten_select_])\n",
    "        \n",
    "        focus = focus_layer([permute_layer(xs[i]), att])\n",
    "        xs[i] = concate_layer([select_, reshape_layer(focus)])\n",
    "        xs[i] = flatten_layer(xs[i])\n",
    "        xs[i] = atten_dropout_layer(xs[i])\n",
    "        xs[i] = map_layer(xs[i])\n",
    "    \n",
    "    feature_dropout_layer = layers.Dropout(rate=drop_out, name=\"feature_dropout_layer\")\n",
    "    feature_map_layer = layers.Dense(model_dim, activation=\"relu\",name=\"feature_map_layer\")\n",
    "    xextrs = [feature_map_layer(feature_dropout_layer(xextr)) for xextr in xextrs]\n",
    "    \n",
    "    x = layers.Concatenate(axis=1, name=\"concat_feature_layer\")(xs + xextrs)\n",
    "    x = layers.Dropout(drop_out, name='dropout_layer')(x)\n",
    "\n",
    "\n",
    "    outputs = layers.Dense(output_dim, activation=\"softmax\", name=\"softmax_layer0\")(x)\n",
    "\n",
    "    model = models.Model([inputp, inputa, inputb] + inputpos + xis + [inputpa, inputpb], outputs)\n",
    "\n",
    "    if return_customized_layers:\n",
    "        return model, {'FeatureSelection1D': FeatureSelection1D, 'AttentionWeight': AttentionWeight}\n",
    "\n",
    "    return model"
   ]
  },
  {
   "cell_type": "markdown",
   "metadata": {
    "_uuid": "f134f020b4c1c7f9e8ce4cfc801b015d9090e249"
   },
   "source": [
    "### Build Model"
   ]
  },
  {
   "cell_type": "code",
   "execution_count": 30,
   "metadata": {
    "_uuid": "7c0e4a38b4fa5e55811bdb4672dc5a596e70c433"
   },
   "outputs": [
    {
     "name": "stdout",
     "output_type": "stream",
     "text": [
      "WARNING:tensorflow:From /opt/conda/lib/python3.6/site-packages/tensorflow/python/framework/op_def_library.py:263: colocate_with (from tensorflow.python.framework.ops) is deprecated and will be removed in a future version.\n",
      "Instructions for updating:\n",
      "Colocations handled automatically by placer.\n",
      "WARNING:tensorflow:From /opt/conda/lib/python3.6/site-packages/keras/backend/tensorflow_backend.py:3445: calling dropout (from tensorflow.python.ops.nn_ops) with keep_prob is deprecated and will be removed in a future version.\n",
      "Instructions for updating:\n",
      "Please use `rate` instead of `keep_prob`. Rate should be set to `rate = 1 - keep_prob`.\n"
     ]
    }
   ],
   "source": [
    "voca_dim = embedding_matrix.shape[0]\n",
    "pos_tag_size = len(pos_index)\n",
    "time_steps = max_len\n",
    "\n",
    "embed_dim = embedding_matrix.shape[1]\n",
    "pos_tag_dim = 5\n",
    "extra_feature_dims = num_pos_features\n",
    "output_dim = 3\n",
    "rnn_dim = 50\n",
    "model_dim = 10\n",
    "mlp_dim = 10\n",
    "drop_out=0.2\n",
    "rnn_drop_out=0.5\n",
    "gpu = True\n",
    "return_customized_layers=True\n",
    "\n",
    "model, co = build_e2e_birnn_attention_model(\n",
    "        voca_dim, time_steps, pos_tag_size, pos_tag_dim, extra_feature_dims, output_dim, rnn_dim, model_dim, mlp_dim,\n",
    "        item_embedding=embedding_matrix,drop_out=drop_out, rnn_drop_out=rnn_drop_out, rnn_state_drop_out=rnn_drop_out,\n",
    "        trainable_embedding=False, gpu=gpu, return_customized_layers=return_customized_layers)\n",
    "cos.append(co)"
   ]
  },
  {
   "cell_type": "markdown",
   "metadata": {
    "_uuid": "2c926e888dce8ff928430dc76d4771cb67aea2a6"
   },
   "source": [
    "### Train Model"
   ]
  },
  {
   "cell_type": "code",
   "execution_count": 31,
   "metadata": {
    "_uuid": "02490fd68b2c304432f68d8c356b3013084d8d3d"
   },
   "outputs": [
    {
     "name": "stdout",
     "output_type": "stream",
     "text": [
      "WARNING:tensorflow:From /opt/conda/lib/python3.6/site-packages/tensorflow/python/ops/math_ops.py:3066: to_int32 (from tensorflow.python.ops.math_ops) is deprecated and will be removed in a future version.\n",
      "Instructions for updating:\n",
      "Use tf.cast instead.\n"
     ]
    },
    {
     "name": "stderr",
     "output_type": "stream",
     "text": [
      "/opt/conda/lib/python3.6/site-packages/tensorflow/python/ops/gradients_impl.py:110: UserWarning: Converting sparse IndexedSlices to a dense Tensor of unknown shape. This may consume a large amount of memory.\n",
      "  \"Converting sparse IndexedSlices to a dense Tensor of unknown shape. \"\n"
     ]
    },
    {
     "name": "stdout",
     "output_type": "stream",
     "text": [
      "Train on 2000 samples, validate on 454 samples\n",
      "Epoch 1/10\n",
      "2000/2000 [==============================] - 6s 3ms/step - loss: 1.1959 - sparse_categorical_accuracy: 0.4425 - val_loss: 0.9738 - val_sparse_categorical_accuracy: 0.5220\n",
      "\n",
      "Epoch 00001: val_loss improved from inf to 0.97379, saving model to best_e2e_rnn_atten_model.hdf5\n",
      "Epoch 2/10\n",
      "2000/2000 [==============================] - 2s 1ms/step - loss: 0.9203 - sparse_categorical_accuracy: 0.5640 - val_loss: 0.8944 - val_sparse_categorical_accuracy: 0.5815\n",
      "\n",
      "Epoch 00002: val_loss improved from 0.97379 to 0.89437, saving model to best_e2e_rnn_atten_model.hdf5\n",
      "Epoch 3/10\n",
      "2000/2000 [==============================] - 2s 1ms/step - loss: 0.8509 - sparse_categorical_accuracy: 0.5985 - val_loss: 0.8287 - val_sparse_categorical_accuracy: 0.6123\n",
      "\n",
      "Epoch 00003: val_loss improved from 0.89437 to 0.82870, saving model to best_e2e_rnn_atten_model.hdf5\n",
      "Epoch 4/10\n",
      "2000/2000 [==============================] - 2s 1ms/step - loss: 0.7945 - sparse_categorical_accuracy: 0.6415 - val_loss: 0.8083 - val_sparse_categorical_accuracy: 0.6256\n",
      "\n",
      "Epoch 00004: val_loss improved from 0.82870 to 0.80831, saving model to best_e2e_rnn_atten_model.hdf5\n",
      "Epoch 5/10\n",
      "2000/2000 [==============================] - 2s 1ms/step - loss: 0.7535 - sparse_categorical_accuracy: 0.6590 - val_loss: 0.7845 - val_sparse_categorical_accuracy: 0.6344\n",
      "\n",
      "Epoch 00005: val_loss improved from 0.80831 to 0.78455, saving model to best_e2e_rnn_atten_model.hdf5\n",
      "Epoch 6/10\n",
      "2000/2000 [==============================] - 2s 1ms/step - loss: 0.7354 - sparse_categorical_accuracy: 0.6895 - val_loss: 0.7743 - val_sparse_categorical_accuracy: 0.6520\n",
      "\n",
      "Epoch 00006: val_loss improved from 0.78455 to 0.77430, saving model to best_e2e_rnn_atten_model.hdf5\n",
      "Epoch 7/10\n",
      "2000/2000 [==============================] - 2s 1ms/step - loss: 0.7235 - sparse_categorical_accuracy: 0.6725 - val_loss: 0.7734 - val_sparse_categorical_accuracy: 0.6454\n",
      "\n",
      "Epoch 00007: val_loss improved from 0.77430 to 0.77337, saving model to best_e2e_rnn_atten_model.hdf5\n",
      "Epoch 8/10\n",
      "2000/2000 [==============================] - 2s 1ms/step - loss: 0.8900 - sparse_categorical_accuracy: 0.5575 - val_loss: 0.9514 - val_sparse_categorical_accuracy: 0.5286\n",
      "\n",
      "Epoch 00008: val_loss did not improve from 0.77337\n",
      "Epoch 9/10\n",
      "2000/2000 [==============================] - 2s 1ms/step - loss: 0.9179 - sparse_categorical_accuracy: 0.5380 - val_loss: 0.9514 - val_sparse_categorical_accuracy: 0.5264\n",
      "\n",
      "Epoch 00009: val_loss did not improve from 0.77337\n",
      "Epoch 10/10\n",
      "2000/2000 [==============================] - 2s 1ms/step - loss: 0.9267 - sparse_categorical_accuracy: 0.5250 - val_loss: 0.9514 - val_sparse_categorical_accuracy: 0.5264\n",
      "\n",
      "Epoch 00010: val_loss did not improve from 0.77337\n"
     ]
    },
    {
     "data": {
      "text/plain": [
       "40"
      ]
     },
     "execution_count": 31,
     "metadata": {},
     "output_type": "execute_result"
    }
   ],
   "source": [
    "adam = ko.Nadam(clipnorm=1.0)\n",
    "model.compile(adam, loss=\"sparse_categorical_crossentropy\", metrics=[\"sparse_categorical_accuracy\"])\n",
    "\n",
    "file_path = \"best_e2e_rnn_atten_model.hdf5\"\n",
    "check_point = kc.ModelCheckpoint(file_path, monitor = \"val_loss\", verbose = 1, save_best_only = True, mode = \"min\")\n",
    "history = model.fit(X_train, y_tra, batch_size=30, epochs=10, validation_data=(X_dev, y_dev), callbacks=[check_point])\n",
    "\n",
    "file_paths.append(file_path)\n",
    "histories.append(np.min(np.asarray(history.history['val_loss'])))\n",
    "\n",
    "# del model, history\n",
    "gc.collect()"
   ]
  },
  {
   "cell_type": "code",
   "execution_count": 32,
   "metadata": {},
   "outputs": [
    {
     "data": {
      "image/png": "[encoded data removed]",
      "text/plain": [
       "<Figure size 1152x576 with 2 Axes>"
      ]
     },
     "metadata": {},
     "output_type": "display_data"
    }
   ],
   "source": [
    "import matplotlib.pyplot as plt\n",
    "hist=history.history\n",
    "# print(hist)\n",
    "acc=hist['sparse_categorical_accuracy']\n",
    "val_acc=hist['val_sparse_categorical_accuracy']\n",
    "epoch=range(len(acc))\n",
    "loss=hist['loss']\n",
    "val_loss=hist['val_loss']\n",
    "f,ax=plt.subplots(1,2,figsize=(16,8))\n",
    "ax[0].plot(epoch,acc,'b',label='Training Accuracy')\n",
    "ax[0].plot(epoch,val_acc,'r',label='Validation Accuracy')\n",
    "ax[0].legend()\n",
    "ax[1].plot(epoch,loss,'b',label='Training Loss')\n",
    "ax[1].plot(epoch,val_loss,'r',label='Validation Loss')\n",
    "ax[1].legend()\n",
    "plt.show()"
   ]
  },
  {
   "cell_type": "markdown",
   "metadata": {
    "_uuid": "8bb147615d4920a2f3500a0fba12d31cb0869304"
   },
   "source": [
    "###  Make Prediction"
   ]
  },
  {
   "cell_type": "code",
   "execution_count": 33,
   "metadata": {
    "_uuid": "79cb8d339da04ad2d52e3675a4295f55a6ccd148"
   },
   "outputs": [
    {
     "name": "stdout",
     "output_type": "stream",
     "text": [
      "load best model: best_e2e_rnn_atten_model.hdf5\n"
     ]
    },
    {
     "name": "stderr",
     "output_type": "stream",
     "text": [
      "/opt/conda/lib/python3.6/site-packages/tensorflow/python/ops/gradients_impl.py:110: UserWarning: Converting sparse IndexedSlices to a dense Tensor of unknown shape. This may consume a large amount of memory.\n",
      "  \"Converting sparse IndexedSlices to a dense Tensor of unknown shape. \"\n"
     ]
    }
   ],
   "source": [
    "print(\"load best model: \" + str(file_paths[np.argmin(histories)]))\n",
    "model = models.load_model(\n",
    "    file_paths[np.argmin(histories)], cos[np.argmin(histories)])"
   ]
  },
  {
   "cell_type": "code",
   "execution_count": 34,
   "metadata": {},
   "outputs": [
    {
     "name": "stdout",
     "output_type": "stream",
     "text": [
      "2000/2000 [==============================] - 2s 768us/step\n",
      "model evalutation loss = 0.7661668863296509 and score = 0.669\n"
     ]
    }
   ],
   "source": [
    "loss, score = model.evaluate(x=X_test, y=y_test)\n",
    "print('model evalutation loss = {} and score = {}'.format(loss, score))"
   ]
  },
  {
   "cell_type": "code",
   "execution_count": 35,
   "metadata": {},
   "outputs": [],
   "source": [
    "\n",
    "    \n",
    "\n",
    "\n",
    "# ypreds = model.predict(X_test)\n",
    "# print(ypreds)\n",
    "# print(y_test)"
   ]
  },
  {
   "cell_type": "code",
   "execution_count": 36,
   "metadata": {},
   "outputs": [],
   "source": [
    "\n",
    "\n",
    "\n",
    "# count=0\n",
    "# for i in range(len(ypreds)):\n",
    "#     j=np.argmax(ypreds[i])\n",
    "#     if j==y_test[i] and count==0 and j==2:\n",
    "#         print(\"\\n\")\n",
    "#         print(test_df.iloc[i][\"Text\"])\n",
    "#         count+=1\n",
    "#         print(\"True\")\n",
    "#         if y_test[i]==0:\n",
    "#             print(\"Answer is \"+test_df.iloc[i][\"A\"])\n",
    "#         if y_test[i]==1:\n",
    "#             print(\"Answer is \"+test_df.iloc[i][\"B\"])\n",
    "#         if y_test[i]==2:\n",
    "#             print(\"Answer is\"+\" none of the pronouns mentioned\",end=\", \")\n",
    "#             print(\" Pronouns mentioned are \"+test_df.iloc[i][\"A\"]+\",\"+test_df.iloc[i][\"B\"] )\n",
    "#         if j==0:\n",
    "#             print(\"Answer predicted is \"+test_df.iloc[i][\"A\"])\n",
    "#         if j==1:\n",
    "#             print(\"Answer predicted is \"+test_df.iloc[i][\"B\"])\n",
    "#         if j==2:\n",
    "#             print(\"Answer predicted is\"+\" none of the pronouns mentioned\", end=\", \")\n",
    "#             print(\"Pronouns mentioned are \"+test_df.iloc[i][\"A\"]+\",\"+test_df.iloc[i][\"B\"] )\n",
    "# #     elif count<=10:\n",
    "# #         count+=1\n",
    "# #         print(\"False\")\n",
    "# # #         print(\"Answer is \"+test_df[i])\n",
    "# #         if y_test[i]==0:\n",
    "# #             print(\"Answer is \"+test_df.iloc[i][\"A\"])\n",
    "# #         if y_test[i]==1:\n",
    "# #             print(\"Answer is \"+test_df.iloc[i][\"B\"])\n",
    "# #         if y_test[i]==2:\n",
    "# #             print(\"Answer is\"+\" none of the pronouns mentioned\")\n",
    "# #             print(\" Pronouns mentioned are \"+test_df.iloc[i][\"A\"]+\",\"+test_df.iloc[i][\"B\"] )\n",
    "# #         if j==0:\n",
    "# #             print(\"Answer predicted is \"+test_df.iloc[i][\"A\"])\n",
    "# #         if j==1:\n",
    "# #             print(\"Answer predicted is \"+test_df.iloc[i][\"B\"])\n",
    "# #         if j==2:\n",
    "# #             print(\"Answer predicted is\"+\" none of the pronouns mentioned\")\n",
    "# #             print(\"Pronouns mentioned are \"+test_df.iloc[i][\"A\"]+\",\"+test_df.iloc[i][\"B\"] )"
   ]
  },
  {
   "cell_type": "code",
   "execution_count": 37,
   "metadata": {},
   "outputs": [],
   "source": [
    "# count1=0\n",
    "# count2=0\n",
    "# count3=0\n",
    "# count4=0\n",
    "# count5=0\n",
    "# count6=0\n",
    "\n",
    "# for i in range(len(ypreds)):\n",
    "#     j=np.argmax(ypreds[i])\n",
    "#     if j==0:\n",
    "#         count1+=1\n",
    "#     if j==1:\n",
    "#         count2+=1\n",
    "#     if j==2:\n",
    "#         count3+=1\n",
    "#     if y_test[i]==0:\n",
    "#         count4+=1\n",
    "#     if y_test[i]==1:\n",
    "#         count5+=1\n",
    "#     if y_test[i]==2:\n",
    "#         count6+=1\n",
    "# print(count1)\n",
    "# print(count2)\n",
    "# print(count3)\n",
    "# print(count4)\n",
    "# print(count5)\n",
    "# print(count6)\n",
    "\n",
    "    "
   ]
  }
 ],
 "metadata": {
  "kernelspec": {
   "display_name": "Python 3",
   "language": "python",
   "name": "python3"
  },
  "language_info": {
   "codemirror_mode": {
    "name": "ipython",
    "version": 3
   },
   "file_extension": ".py",
   "mimetype": "text/x-python",
   "name": "python",
   "nbconvert_exporter": "python",
   "pygments_lexer": "ipython3",
   "version": "3.7.4"
  }
 },
 "nbformat": 4,
 "nbformat_minor": 4
}
